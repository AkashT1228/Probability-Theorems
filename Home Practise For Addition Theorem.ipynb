{
 "cells": [
  {
   "cell_type": "markdown",
   "id": "09627c56",
   "metadata": {},
   "source": [
    "# Home Practise For Addition Theorem"
   ]
  },
  {
   "cell_type": "markdown",
   "id": "6515b9e8",
   "metadata": {},
   "source": [
    "### If A and B are mutually exclusive events p(A)=⅜ and p(B)=⅛ ,the find\n",
    "1)p(A’)\n",
    "2)p(AUB) \n"
   ]
  },
  {
   "cell_type": "code",
   "execution_count": 2,
   "id": "b5122750",
   "metadata": {},
   "outputs": [
    {
     "data": {
      "text/plain": [
       "0.625"
      ]
     },
     "execution_count": 2,
     "metadata": {},
     "output_type": "execute_result"
    }
   ],
   "source": [
    "a = 3/8             ## p(AUB) = A or B\n",
    "b = 1/8             ## p(A intersection B) = A and B\n",
    "(A_bar) = 1 - a\n",
    "(A_bar) "
   ]
  },
  {
   "cell_type": "code",
   "execution_count": 4,
   "id": "7d04248e",
   "metadata": {},
   "outputs": [
    {
     "data": {
      "text/plain": [
       "0.5"
      ]
     },
     "execution_count": 4,
     "metadata": {},
     "output_type": "execute_result"
    }
   ],
   "source": [
    "A_union_B = a + b\n",
    "A_union_B"
   ]
  },
  {
   "cell_type": "markdown",
   "id": "0883fa03",
   "metadata": {},
   "source": [
    "### If the probability of solving a problem by 2 students George and James are 1/2 and 1/3 respectively then what is the probability of the problem to be solved."
   ]
  },
  {
   "cell_type": "code",
   "execution_count": 6,
   "id": "8b69db13",
   "metadata": {},
   "outputs": [
    {
     "data": {
      "text/plain": [
       "0.16666666666666666"
      ]
     },
     "execution_count": 6,
     "metadata": {},
     "output_type": "execute_result"
    }
   ],
   "source": [
    "a = 1/2\n",
    "b = 1/3\n",
    "A_and_B = a * b\n",
    "A_and_B"
   ]
  },
  {
   "cell_type": "code",
   "execution_count": 10,
   "id": "2f847da0",
   "metadata": {},
   "outputs": [
    {
     "data": {
      "text/plain": [
       "0.6666666666666666"
      ]
     },
     "execution_count": 10,
     "metadata": {},
     "output_type": "execute_result"
    }
   ],
   "source": [
    "A_union_B = a + b - A_and_B\n",
    "A_union_B"
   ]
  },
  {
   "cell_type": "markdown",
   "id": "6678a205",
   "metadata": {},
   "source": [
    "### What is the probability of drawing either a king or a queen in a single draw from a well shuffled pack of 52 cards?"
   ]
  },
  {
   "cell_type": "code",
   "execution_count": 27,
   "id": "ba4c6b9f",
   "metadata": {},
   "outputs": [
    {
     "data": {
      "text/plain": [
       "0.15384615384615385"
      ]
     },
     "execution_count": 27,
     "metadata": {},
     "output_type": "execute_result"
    }
   ],
   "source": [
    "a = 1/13\n",
    "b = 1/13\n",
    "A_union_B = a + b\n",
    "A_union_B"
   ]
  },
  {
   "cell_type": "markdown",
   "id": "96e7edf9",
   "metadata": {},
   "source": [
    "###  A and B are two candidates seeking admission to IIT. The probability that A getting selected is 0.5, the probability of B getting selected is 0.7 and the probability that both A and B getting selected is 0.3. What is the probability that it could be either candidate A or B."
   ]
  },
  {
   "cell_type": "code",
   "execution_count": 28,
   "id": "c4acb41d",
   "metadata": {},
   "outputs": [
    {
     "data": {
      "text/plain": [
       "0.8999999999999999"
      ]
     },
     "execution_count": 28,
     "metadata": {},
     "output_type": "execute_result"
    }
   ],
   "source": [
    "a = 0.5\n",
    "b = 0.7\n",
    "A_and_B = 0.3\n",
    "A_union_B = a + b - A_and_B\n",
    "A_union_B"
   ]
  },
  {
   "cell_type": "markdown",
   "id": "8db8a874",
   "metadata": {},
   "source": [
    "###  A bag contains 30 balls numbered from 1 to 30. One ball is drawn at random, find the probability that the number of the ball will be multiple of 5 or 9."
   ]
  },
  {
   "cell_type": "code",
   "execution_count": 48,
   "id": "4f005c61",
   "metadata": {},
   "outputs": [
    {
     "data": {
      "text/plain": [
       "0.30000000000000004"
      ]
     },
     "execution_count": 48,
     "metadata": {},
     "output_type": "execute_result"
    }
   ],
   "source": [
    "a = 6/30\n",
    "b = 3/30\n",
    "A_and_B = a + b\n",
    "A_and_B"
   ]
  },
  {
   "cell_type": "markdown",
   "id": "dfdb9f54",
   "metadata": {},
   "source": [
    "### A die is thrown twice. Let A be the event, ‘First die shows 5’ and B be the event, ‘second die shows 5’. Find P(A∪B) "
   ]
  },
  {
   "cell_type": "code",
   "execution_count": 46,
   "id": "1b7500be",
   "metadata": {},
   "outputs": [
    {
     "data": {
      "text/plain": [
       "0.027777777777777776"
      ]
     },
     "execution_count": 46,
     "metadata": {},
     "output_type": "execute_result"
    }
   ],
   "source": [
    "a = 6/36\n",
    "b = 6/36\n",
    "A_and_B = a * b\n",
    "A_and_B"
   ]
  },
  {
   "cell_type": "code",
   "execution_count": 47,
   "id": "56520363",
   "metadata": {},
   "outputs": [
    {
     "data": {
      "text/plain": [
       "0.3055555555555555"
      ]
     },
     "execution_count": 47,
     "metadata": {},
     "output_type": "execute_result"
    }
   ],
   "source": [
    "A_union_B = a + b - A_and_B\n",
    "A_union_B"
   ]
  },
  {
   "cell_type": "markdown",
   "id": "98d1d901",
   "metadata": {},
   "source": [
    "### Two dice are tossed once. Find the probability of getting an even number on first dice or a total of 8."
   ]
  },
  {
   "cell_type": "code",
   "execution_count": 50,
   "id": "c056ddfa",
   "metadata": {},
   "outputs": [
    {
     "data": {
      "text/plain": [
       "0.06944444444444445"
      ]
     },
     "execution_count": 50,
     "metadata": {},
     "output_type": "execute_result"
    }
   ],
   "source": [
    "a = 18/36\n",
    "b = 5/36\n",
    "A_and_B = a * b\n",
    "A_and_B"
   ]
  },
  {
   "cell_type": "code",
   "execution_count": 51,
   "id": "07498b29",
   "metadata": {},
   "outputs": [
    {
     "data": {
      "text/plain": [
       "0.5694444444444444"
      ]
     },
     "execution_count": 51,
     "metadata": {},
     "output_type": "execute_result"
    }
   ],
   "source": [
    "A_union_B = a + b - A_and_B\n",
    "A_union_B"
   ]
  },
  {
   "cell_type": "markdown",
   "id": "98e91583",
   "metadata": {},
   "source": [
    "### A person can hit a target in 3 out 4 shots, whereas another person can hit the target in 2 out of 3 shots. Find the probability of the targets being hit at all when they both try."
   ]
  },
  {
   "cell_type": "code",
   "execution_count": 55,
   "id": "7f80e8c8",
   "metadata": {},
   "outputs": [
    {
     "data": {
      "text/plain": [
       "0.08333333333333333"
      ]
     },
     "execution_count": 55,
     "metadata": {},
     "output_type": "execute_result"
    }
   ],
   "source": [
    "a = 1/4\n",
    "b = 1/3\n",
    "A_and_B = a * b\n",
    "A_and_B"
   ]
  },
  {
   "cell_type": "code",
   "execution_count": 58,
   "id": "33264d62",
   "metadata": {},
   "outputs": [
    {
     "data": {
      "text/plain": [
       "0.9166666666666666"
      ]
     },
     "execution_count": 58,
     "metadata": {},
     "output_type": "execute_result"
    }
   ],
   "source": [
    "not_A_union_B = 1 - A_and_B\n",
    "not_A_union_B"
   ]
  },
  {
   "cell_type": "markdown",
   "id": "55668f05",
   "metadata": {},
   "source": [
    "###  If A and B are two events associated with a random experiment for which P(A) = 0.35, P(A or B) = 0.85, and P(A and B) = 0.15. Find \n",
    "(i) P(only B)\n",
    "(ii) P(B') \n",
    "(iii) P(only A)\n"
   ]
  },
  {
   "cell_type": "code",
   "execution_count": 59,
   "id": "1f08a935",
   "metadata": {},
   "outputs": [
    {
     "data": {
      "text/plain": [
       "0.65"
      ]
     },
     "execution_count": 59,
     "metadata": {},
     "output_type": "execute_result"
    }
   ],
   "source": [
    "a = 0.35\n",
    "A_union_B = 0.85\n",
    "A_and_B = 0.15\n",
    "b = 0.85 - 0.35 + 0.15\n",
    "b"
   ]
  },
  {
   "cell_type": "code",
   "execution_count": 61,
   "id": "69543586",
   "metadata": {},
   "outputs": [
    {
     "data": {
      "text/plain": [
       "0.5"
      ]
     },
     "execution_count": 61,
     "metadata": {},
     "output_type": "execute_result"
    }
   ],
   "source": [
    "only_B = 0.65 - 0.15\n",
    "only_B"
   ]
  },
  {
   "cell_type": "code",
   "execution_count": 63,
   "id": "122a5bcd",
   "metadata": {},
   "outputs": [
    {
     "data": {
      "text/plain": [
       "0.35"
      ]
     },
     "execution_count": 63,
     "metadata": {},
     "output_type": "execute_result"
    }
   ],
   "source": [
    "B_bar = 1 - 0.65\n",
    "B_bar"
   ]
  },
  {
   "cell_type": "code",
   "execution_count": 64,
   "id": "f5a9b463",
   "metadata": {},
   "outputs": [
    {
     "data": {
      "text/plain": [
       "0.2"
      ]
     },
     "execution_count": 64,
     "metadata": {},
     "output_type": "execute_result"
    }
   ],
   "source": [
    "only_A = 0.35 - 0.15\n",
    "round(only_A , 1)"
   ]
  },
  {
   "cell_type": "markdown",
   "id": "3edc5961",
   "metadata": {},
   "source": [
    "###  Consider an experiment of rolling a fair die .Let A be the event that an even number appears . B = a number bigger than 3 occurs . Find the probability that the number appearing on the uppermost face is either even or bigger than 3"
   ]
  },
  {
   "cell_type": "code",
   "execution_count": 68,
   "id": "30bc60dd",
   "metadata": {},
   "outputs": [
    {
     "data": {
      "text/plain": [
       "1.0"
      ]
     },
     "execution_count": 68,
     "metadata": {},
     "output_type": "execute_result"
    }
   ],
   "source": [
    "a = 3/6\n",
    "b = 3/6\n",
    "A_and_B = a + b\n",
    "A_and_B"
   ]
  },
  {
   "cell_type": "markdown",
   "id": "4b7af94d",
   "metadata": {},
   "source": [
    "###  A number is selected from the first 20 natural numbers. Find the probability that it would be divisible by 3 or 7?"
   ]
  },
  {
   "cell_type": "code",
   "execution_count": 71,
   "id": "4c1fc4c8",
   "metadata": {},
   "outputs": [
    {
     "data": {
      "text/plain": [
       "0.4"
      ]
     },
     "execution_count": 71,
     "metadata": {},
     "output_type": "execute_result"
    }
   ],
   "source": [
    "a = 6/20\n",
    "b = 2/20\n",
    "A_and_B = a + b\n",
    "A_and_B"
   ]
  },
  {
   "cell_type": "code",
   "execution_count": null,
   "id": "0bd1814f",
   "metadata": {},
   "outputs": [],
   "source": []
  }
 ],
 "metadata": {
  "kernelspec": {
   "display_name": "Python 3 (ipykernel)",
   "language": "python",
   "name": "python3"
  },
  "language_info": {
   "codemirror_mode": {
    "name": "ipython",
    "version": 3
   },
   "file_extension": ".py",
   "mimetype": "text/x-python",
   "name": "python",
   "nbconvert_exporter": "python",
   "pygments_lexer": "ipython3",
   "version": "3.9.12"
  }
 },
 "nbformat": 4,
 "nbformat_minor": 5
}
