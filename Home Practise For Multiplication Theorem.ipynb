{
 "cells": [
  {
   "cell_type": "markdown",
   "id": "05645588",
   "metadata": {},
   "source": [
    "# Home Practise For Multiplication Theorem"
   ]
  },
  {
   "cell_type": "markdown",
   "id": "6eb91a3f",
   "metadata": {},
   "source": [
    "###  A bag contains 15 red and 5 blue balls.without the replacement of the balls,two balls       are drawn from a  bag one after the other.what is the probability of picking both the balls as red?"
   ]
  },
  {
   "cell_type": "code",
   "execution_count": 1,
   "id": "69be48ca",
   "metadata": {},
   "outputs": [
    {
     "data": {
      "text/plain": [
       "0.5526315789473684"
      ]
     },
     "execution_count": 1,
     "metadata": {},
     "output_type": "execute_result"
    }
   ],
   "source": [
    "a = 15/20\n",
    "b = 14/19\n",
    "both_balls_are_red = a*b\n",
    "both_balls_are_red"
   ]
  },
  {
   "cell_type": "markdown",
   "id": "5516cfd1",
   "metadata": {},
   "source": [
    "### What is the probability of getting a 5 and then a 2 with the normal 6-sided die?"
   ]
  },
  {
   "cell_type": "code",
   "execution_count": 2,
   "id": "e988a40d",
   "metadata": {},
   "outputs": [
    {
     "data": {
      "text/plain": [
       "0.027777777777777776"
      ]
     },
     "execution_count": 2,
     "metadata": {},
     "output_type": "execute_result"
    }
   ],
   "source": [
    "a = 1/6\n",
    "b = 1/6\n",
    "A_and_B = a*b\n",
    "A_and_B"
   ]
  },
  {
   "cell_type": "markdown",
   "id": "c5ac58d6",
   "metadata": {},
   "source": [
    "### Two cards are selected without replacing the first card from the deck. Find the probability of selecting a king and then selecting a queen."
   ]
  },
  {
   "cell_type": "code",
   "execution_count": 3,
   "id": "e1ff48f8",
   "metadata": {},
   "outputs": [
    {
     "data": {
      "text/plain": [
       "0.006033182503770739"
      ]
     },
     "execution_count": 3,
     "metadata": {},
     "output_type": "execute_result"
    }
   ],
   "source": [
    "a = 4/52\n",
    "b = 4/51\n",
    "A_and_B = a*b\n",
    "A_and_B"
   ]
  },
  {
   "cell_type": "markdown",
   "id": "5db2f125",
   "metadata": {},
   "source": [
    "###  Find the probability of drawing a diamond card in each of the two consecutive draws from a well shuffled pack of cards, if the card drawn is not replaced after the first draw?"
   ]
  },
  {
   "cell_type": "code",
   "execution_count": 4,
   "id": "7d1d1bd1",
   "metadata": {},
   "outputs": [
    {
     "data": {
      "text/plain": [
       "0.058823529411764705"
      ]
     },
     "execution_count": 4,
     "metadata": {},
     "output_type": "execute_result"
    }
   ],
   "source": [
    "a = 13/52\n",
    "b = 12/51\n",
    "A_and_B = a*b\n",
    "A_and_B"
   ]
  },
  {
   "cell_type": "markdown",
   "id": "246e55b6",
   "metadata": {},
   "source": [
    "### There are 19 tickets, numbered from 1 to 19. A ticket is drawn and then another ticket is drawn without replacement. Find the probability that both tickets will show even numbers."
   ]
  },
  {
   "cell_type": "code",
   "execution_count": 5,
   "id": "e6fdeb08",
   "metadata": {},
   "outputs": [
    {
     "data": {
      "text/plain": [
       "0.21052631578947367"
      ]
     },
     "execution_count": 5,
     "metadata": {},
     "output_type": "execute_result"
    }
   ],
   "source": [
    "a = 9/19\n",
    "b = 8/18\n",
    "A_and_B = a*b\n",
    "A_and_B"
   ]
  },
  {
   "cell_type": "markdown",
   "id": "93f6a184",
   "metadata": {},
   "source": [
    "###  A bag contains 4 red balls, 3 white balls and 5 black balls. Two balls are drawn one after the other with replacement. Find the probability that first is red and the second is black."
   ]
  },
  {
   "cell_type": "code",
   "execution_count": 6,
   "id": "e06e4109",
   "metadata": {},
   "outputs": [
    {
     "data": {
      "text/plain": [
       "0.1388888888888889"
      ]
     },
     "execution_count": 6,
     "metadata": {},
     "output_type": "execute_result"
    }
   ],
   "source": [
    "a = 4/12\n",
    "b = 5/12\n",
    "A_and_B = a*b\n",
    "A_and_B"
   ]
  },
  {
   "cell_type": "markdown",
   "id": "8b3adffa",
   "metadata": {},
   "source": [
    "###  A bag contains 5 green and 7 red balls. Two balls are drawn. Find the probability that one is green and the other is red."
   ]
  },
  {
   "cell_type": "code",
   "execution_count": 12,
   "id": "8ab4ca05",
   "metadata": {},
   "outputs": [
    {
     "name": "stdout",
     "output_type": "stream",
     "text": [
      "0.5303030303030303\n"
     ]
    }
   ],
   "source": [
    "a = 5/12\n",
    "b = 7/11\n",
    "green_red = a*b\n",
    "(green_red)\n",
    "c = 7/12\n",
    "d = 5/11\n",
    "red_green = c*d\n",
    "(red_green)\n",
    "print(green_red + red_green)"
   ]
  },
  {
   "cell_type": "markdown",
   "id": "bfc2b1b7",
   "metadata": {},
   "source": [
    "### It is 8:5 against the wife who is 40 years old living till she is 70 and 4:3 against her husband now 50 living till he is 80. Find the probability that \n",
    "(i) Both will be alive,\n",
    "(ii) None will be alive,\n",
    "(iii) Only wife will be alive,\n",
    "(iv) Only husband will be alive"
   ]
  },
  {
   "cell_type": "code",
   "execution_count": 14,
   "id": "01e9e4d6",
   "metadata": {},
   "outputs": [],
   "source": [
    "a = 8/13\n",
    "a_bar = 5/13\n",
    "b = 4/7\n",
    "b_bar = 3/7"
   ]
  },
  {
   "cell_type": "code",
   "execution_count": 15,
   "id": "2c11b2e0",
   "metadata": {},
   "outputs": [
    {
     "data": {
      "text/plain": [
       "0.16483516483516483"
      ]
     },
     "execution_count": 15,
     "metadata": {},
     "output_type": "execute_result"
    }
   ],
   "source": [
    "A_and_B = a_bar * b_bar\n",
    "A_and_B"
   ]
  },
  {
   "cell_type": "code",
   "execution_count": 16,
   "id": "bcee1e01",
   "metadata": {},
   "outputs": [
    {
     "data": {
      "text/plain": [
       "0.3516483516483517"
      ]
     },
     "execution_count": 16,
     "metadata": {},
     "output_type": "execute_result"
    }
   ],
   "source": [
    "not_A_and_B = a * b\n",
    "not_A_and_B"
   ]
  },
  {
   "cell_type": "code",
   "execution_count": 17,
   "id": "86433e28",
   "metadata": {},
   "outputs": [
    {
     "data": {
      "text/plain": [
       "0.2197802197802198"
      ]
     },
     "execution_count": 17,
     "metadata": {},
     "output_type": "execute_result"
    }
   ],
   "source": [
    "only_wife_alive = a_bar - A_and_B\n",
    "only_wife_alive"
   ]
  },
  {
   "cell_type": "code",
   "execution_count": 19,
   "id": "b90fce3e",
   "metadata": {},
   "outputs": [
    {
     "data": {
      "text/plain": [
       "0.2637362637362637"
      ]
     },
     "execution_count": 19,
     "metadata": {},
     "output_type": "execute_result"
    }
   ],
   "source": [
    "only_husband_alive = b_bar - A_and_B\n",
    "only_husband_alive"
   ]
  },
  {
   "cell_type": "markdown",
   "id": "95a0f3d0",
   "metadata": {},
   "source": [
    "###  A bag contains 6 black marbles and 4 blue marbles. Two marbles are drawn from the bag, without replacement. What is the probability that both marbles are blue?"
   ]
  },
  {
   "cell_type": "code",
   "execution_count": 20,
   "id": "09d05d2c",
   "metadata": {},
   "outputs": [
    {
     "data": {
      "text/plain": [
       "0.13333333333333333"
      ]
     },
     "execution_count": 20,
     "metadata": {},
     "output_type": "execute_result"
    }
   ],
   "source": [
    "a = 4/10\n",
    "b = 3/9\n",
    "A_and_B = a * b\n",
    "A_and_B"
   ]
  },
  {
   "cell_type": "markdown",
   "id": "35134433",
   "metadata": {},
   "source": [
    "### A lot contains  12 items of which 4 are defective.Two items are drawn at random from the lot one after other (without replacement ).find the probability that both the items are defective ."
   ]
  },
  {
   "cell_type": "code",
   "execution_count": 21,
   "id": "e95f1940",
   "metadata": {},
   "outputs": [
    {
     "data": {
      "text/plain": [
       "0.0909090909090909"
      ]
     },
     "execution_count": 21,
     "metadata": {},
     "output_type": "execute_result"
    }
   ],
   "source": [
    "a = 4/12\n",
    "b = 3/11\n",
    "A_and_B = a * b\n",
    "A_and_B"
   ]
  }
 ],
 "metadata": {
  "kernelspec": {
   "display_name": "Python 3 (ipykernel)",
   "language": "python",
   "name": "python3"
  },
  "language_info": {
   "codemirror_mode": {
    "name": "ipython",
    "version": 3
   },
   "file_extension": ".py",
   "mimetype": "text/x-python",
   "name": "python",
   "nbconvert_exporter": "python",
   "pygments_lexer": "ipython3",
   "version": "3.9.12"
  }
 },
 "nbformat": 4,
 "nbformat_minor": 5
}
