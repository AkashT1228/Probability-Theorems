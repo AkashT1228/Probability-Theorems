{
 "cells": [
  {
   "cell_type": "markdown",
   "id": "07bac306",
   "metadata": {},
   "source": [
    "# Home Practise For Baye's Theorem"
   ]
  },
  {
   "cell_type": "markdown",
   "id": "c7448f24",
   "metadata": {},
   "source": [
    "### A man is known to speak the truth ¾ times. He draws a card and reports it is King .Find the probability that it is actually a King.\n"
   ]
  },
  {
   "cell_type": "code",
   "execution_count": 2,
   "id": "6c4b9941",
   "metadata": {},
   "outputs": [
    {
     "data": {
      "text/plain": [
       "0.2"
      ]
     },
     "execution_count": 2,
     "metadata": {},
     "output_type": "execute_result"
    }
   ],
   "source": [
    "A1 = 3/4\n",
    "A2 = 1/4\n",
    "B_A1 = 4/52\n",
    "B_A2 = 48/52\n",
    "\n",
    "Prediction = ((A1*B_A1)/(A1*B_A1+A2*B_A2))\n",
    "round(Prediction,1)"
   ]
  },
  {
   "cell_type": "markdown",
   "id": "a6aeb2ed",
   "metadata": {},
   "source": [
    "### Assume that the chances of a person having a skin disease are 40%. Assuming that skin creams and drinking enough water reduces the risk of skin disease by 30% and prescription of a certain drug reduces its chance by 20%. At a time, a patient can choose any one of the two options with equal probabilities. It is given that after picking one of the options, the patient selected at random has the skin disease. Find the probability that the patient picked the option of skin creams and drinking enough water using the Bayes theorem."
   ]
  },
  {
   "cell_type": "code",
   "execution_count": 4,
   "id": "36e06890",
   "metadata": {},
   "outputs": [
    {
     "data": {
      "text/plain": [
       "0.4666666666666666"
      ]
     },
     "execution_count": 4,
     "metadata": {},
     "output_type": "execute_result"
    }
   ],
   "source": [
    "A1 = 1/2\n",
    "A2 = 1/2\n",
    "B_A1 =0.28 \n",
    "B_A2 = 0.32\n",
    "\n",
    "Prediction = ((A1*B_A1)/(A1*B_A1+A2*B_A2))\n",
    "Prediction"
   ]
  },
  {
   "cell_type": "markdown",
   "id": "bf9ef92d",
   "metadata": {},
   "source": [
    "### A bag I contains 4 white and 6 black balls while another Bag II contains 4 white and 3 black balls. One ball is drawn at random from one of the bags, and it is found to be black. Find the probability that it was drawn from Bag I."
   ]
  },
  {
   "cell_type": "code",
   "execution_count": 6,
   "id": "983d9e2e",
   "metadata": {},
   "outputs": [
    {
     "data": {
      "text/plain": [
       "0.5833333333333334"
      ]
     },
     "execution_count": 6,
     "metadata": {},
     "output_type": "execute_result"
    }
   ],
   "source": [
    "A1 = 1/2\n",
    "A2 = 1/2\n",
    "B_A1 = 6/10\n",
    "B_A2 = 3/7\n",
    "\n",
    "Prediction = ((A1*B_A1)/(A1*B_A1+A2*B_A2))\n",
    "Prediction"
   ]
  },
  {
   "cell_type": "markdown",
   "id": "056f0ebb",
   "metadata": {},
   "source": [
    "### A bag contains 4 balls. Two balls drawn at random without replacement and are found to be blue.what is the probability that all balls in the bag are blue?"
   ]
  },
  {
   "cell_type": "code",
   "execution_count": 2,
   "id": "e5f3f7be",
   "metadata": {},
   "outputs": [
    {
     "data": {
      "text/plain": [
       "0.6"
      ]
     },
     "execution_count": 2,
     "metadata": {},
     "output_type": "execute_result"
    }
   ],
   "source": [
    "A1 = 1/3\n",
    "A2 = 1/3\n",
    "A3 = 1/3\n",
    "\n",
    "B_A1 = 1/6\n",
    "B_A2 = 1/2\n",
    "B_A3 = 1\n",
    "\n",
    "Prediction = ((A2*B_A3)/(A1*B_A1+A2*B_A2+A3*B_A3))\n",
    "Prediction"
   ]
  },
  {
   "cell_type": "markdown",
   "id": "b50a0935",
   "metadata": {},
   "source": [
    "### 1% of a population have a certain disease and the remaining 99% are free from this disease. A test is used to detect this disease. This test is positive in 95% of the people with the disease and is also (falsely) positive in 2% of the people free from the disease.If a person, selected at random from this population, has tested positive, what is the probability that she/he has the disease?\n"
   ]
  },
  {
   "cell_type": "code",
   "execution_count": 3,
   "id": "04ddd470",
   "metadata": {},
   "outputs": [
    {
     "data": {
      "text/plain": [
       "0.32423208191126274"
      ]
     },
     "execution_count": 3,
     "metadata": {},
     "output_type": "execute_result"
    }
   ],
   "source": [
    "A1 = 0.95\n",
    "A2 = 0.2\n",
    "\n",
    "B_A1 = 0.1\n",
    "B_A2 = 0.99\n",
    "\n",
    "Prediction = ((A1*B_A1)/(A1*B_A1+A2*B_A2))\n",
    "Prediction"
   ]
  },
  {
   "cell_type": "markdown",
   "id": "2dd77f41",
   "metadata": {},
   "source": [
    "### Amy has two bags. Bag I has 7 red and 2 blue balls and bag II has 5 red and 9 blue balls. Amy draws a ball at random and it turns out to be red. Determine the probability that the ball was from the bag I using the Bayes theorem."
   ]
  },
  {
   "cell_type": "code",
   "execution_count": 4,
   "id": "aea9d520",
   "metadata": {},
   "outputs": [
    {
     "data": {
      "text/plain": [
       "0.6405228758169935"
      ]
     },
     "execution_count": 4,
     "metadata": {},
     "output_type": "execute_result"
    }
   ],
   "source": [
    "A1 = 1/2\n",
    "A2 = 1/2\n",
    "\n",
    "B_A1 = 7/11\n",
    "B_A2 = 5/14\n",
    "\n",
    "Prediction = ((A1*B_A1)/(A1*B_A1+A2*B_A2))\n",
    "Prediction"
   ]
  },
  {
   "cell_type": "code",
   "execution_count": null,
   "id": "60ebb533",
   "metadata": {},
   "outputs": [],
   "source": []
  },
  {
   "cell_type": "markdown",
   "id": "0ef847b4",
   "metadata": {},
   "source": [
    "### An insurance company insured 2000 scooter drivers, 4000 car drivers and 6000 truck drivers. The probability of an accident involving a scooter driver , car driver and a truck driver is 0.01, 0.03, 0.015. One of the insured persons meets with an accident. What is the probability that he is a scooter driver?"
   ]
  },
  {
   "cell_type": "code",
   "execution_count": 9,
   "id": "025180c8",
   "metadata": {},
   "outputs": [
    {
     "data": {
      "text/plain": [
       "0.01923076923076923"
      ]
     },
     "execution_count": 9,
     "metadata": {},
     "output_type": "execute_result"
    }
   ],
   "source": [
    "A1 = 1/6\n",
    "A2 = 1/3\n",
    "A3 = 1/2\n",
    "\n",
    "B_A1 = 1/100\n",
    "B_A2 = 3/100\n",
    "B_A3 = 15/100\n",
    "\n",
    "Prediction = ((A1*B_A1)/(A1*B_A1+A2*B_A2+A3*B_A3))\n",
    "Prediction"
   ]
  },
  {
   "cell_type": "markdown",
   "id": "9ee305f4",
   "metadata": {},
   "source": [
    "### Three urns contain 6 red, 4 black; 4 red, 6 black, and 5 red, 5 black balls respectively. One of the urns is selected at random and a ball is drawn from it. If the ball drawn is red, find the probability that it is drawn from the first urn."
   ]
  },
  {
   "cell_type": "code",
   "execution_count": 10,
   "id": "6e434eea",
   "metadata": {},
   "outputs": [
    {
     "data": {
      "text/plain": [
       "0.5901639344262294"
      ]
     },
     "execution_count": 10,
     "metadata": {},
     "output_type": "execute_result"
    }
   ],
   "source": [
    "A1 = 1/3\n",
    "A2 = 1/3\n",
    "A3 = 1/3\n",
    "\n",
    "B_A1 = 3/5\n",
    "B_A2 = 1/4\n",
    "B_A3 = 1/6\n",
    "\n",
    "Prediction = ((A1*B_A1)/(A1*B_A1+A2*B_A2+A3*B_A3))\n",
    "Prediction"
   ]
  },
  {
   "cell_type": "markdown",
   "id": "8eac492d",
   "metadata": {},
   "source": [
    "### A jar containing 8 marbles of which 4 red and 4 blue marbles are there. Find the probability of getting a red given the first one was red too."
   ]
  },
  {
   "cell_type": "code",
   "execution_count": null,
   "id": "7cab8655",
   "metadata": {},
   "outputs": [],
   "source": [
    "A1 = 4/8\n",
    "A2 = 3/7\n",
    "\n",
    "B_A1 = 3/14 "
   ]
  },
  {
   "cell_type": "markdown",
   "id": "c3da0ae8",
   "metadata": {},
   "source": [
    "###  Three persons A, B and C have applied for a job in a private company. The chance of their selections is in the ratio 1 : 2 : 4. The probabilities that A, B and C can introduce changes to improve the profits of the company are 0.8, 0.5 and 0.3, respectively. If the change does not take place, find the probability that it is due to the appointment of C."
   ]
  },
  {
   "cell_type": "code",
   "execution_count": 12,
   "id": "c0f39c73",
   "metadata": {},
   "outputs": [
    {
     "data": {
      "text/plain": [
       "0.7"
      ]
     },
     "execution_count": 12,
     "metadata": {},
     "output_type": "execute_result"
    }
   ],
   "source": [
    "A1 = 1/7\n",
    "A2 = 2/7\n",
    "A3 = 4/7\n",
    "\n",
    "B_A1 = 2/10\n",
    "B_A2 = 5/10\n",
    "B_A3 = 7/10\n",
    "\n",
    "Prediction = ((A3*B_A3)/(A1*B_A1+A2*B_A2+A3*B_A3))\n",
    "Prediction"
   ]
  },
  {
   "cell_type": "markdown",
   "id": "e826850e",
   "metadata": {},
   "source": [
    "### Three identical boxes contain red and white balls. The first box contains 3 red and 2 white balls, the second box has 4 red and 5 white balls, and the third box has 2 red and 4 white balls. A box is chosen very randomly and a ball is drawn from it. If the ball that is drawn out is red, what will be the probability that the second box is chosen"
   ]
  },
  {
   "cell_type": "code",
   "execution_count": 14,
   "id": "5e412345",
   "metadata": {},
   "outputs": [
    {
     "data": {
      "text/plain": [
       "0.32258064516129037"
      ]
     },
     "execution_count": 14,
     "metadata": {},
     "output_type": "execute_result"
    }
   ],
   "source": [
    "A1 = 1/3\n",
    "A2 = 1/3\n",
    "A3 = 1/3\n",
    "\n",
    "B_A1 = 3/5\n",
    "B_A2 = 4/9\n",
    "B_A3 = 2/6\n",
    "\n",
    "Prediction = ((A2*B_A2)/(A1*B_A1+A2*B_A2+A3*B_A3))\n",
    "Prediction"
   ]
  }
 ],
 "metadata": {
  "kernelspec": {
   "display_name": "Python 3 (ipykernel)",
   "language": "python",
   "name": "python3"
  },
  "language_info": {
   "codemirror_mode": {
    "name": "ipython",
    "version": 3
   },
   "file_extension": ".py",
   "mimetype": "text/x-python",
   "name": "python",
   "nbconvert_exporter": "python",
   "pygments_lexer": "ipython3",
   "version": "3.9.12"
  }
 },
 "nbformat": 4,
 "nbformat_minor": 5
}
